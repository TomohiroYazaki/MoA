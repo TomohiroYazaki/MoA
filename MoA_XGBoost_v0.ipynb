{
  "nbformat": 4,
  "nbformat_minor": 0,
  "metadata": {
    "colab": {
      "name": "MoA_XGBoost_v0.ipynb",
      "provenance": [],
      "machine_shape": "hm",
      "mount_file_id": "1GwTkfdyF19ipK1-P4RXijMalWmkcqIYc",
      "authorship_tag": "ABX9TyPqEwLHSsBqwz5xKO3cLihY",
      "include_colab_link": true
    },
    "kernelspec": {
      "name": "python3",
      "display_name": "Python 3"
    },
    "accelerator": "GPU"
  },
  "cells": [
    {
      "cell_type": "markdown",
      "metadata": {
        "id": "view-in-github",
        "colab_type": "text"
      },
      "source": [
        "<a href=\"https://colab.research.google.com/github/TomohiroYazaki/MoA/blob/master/MoA_XGBoost_v0.ipynb\" target=\"_parent\"><img src=\"https://colab.research.google.com/assets/colab-badge.svg\" alt=\"Open In Colab\"/></a>"
      ]
    },
    {
      "cell_type": "markdown",
      "metadata": {
        "id": "xFS1rf5gSyKo",
        "colab_type": "text"
      },
      "source": [
        "https://www.kaggle.com/fchmiel/xgboost-baseline-multilabel-classification"
      ]
    },
    {
      "cell_type": "code",
      "metadata": {
        "id": "L8N4mXB2YfDJ",
        "colab_type": "code",
        "colab": {}
      },
      "source": [
        "!pip show xgboost\n",
        "!pip uninstall --yes xgboost\n",
        "!pip install xgboost\n",
        "!pip show xgboost"
      ],
      "execution_count": null,
      "outputs": []
    },
    {
      "cell_type": "code",
      "metadata": {
        "id": "pPoE7jq9SsWp",
        "colab_type": "code",
        "colab": {
          "base_uri": "https://localhost:8080/",
          "height": 71
        },
        "outputId": "634b2aa7-0639-4af0-ad97-62d1d2d04845"
      },
      "source": [
        "import numpy as np # linear algebra\n",
        "import pandas as pd # data processing, CSV file I/O (e.g. pd.read_csv)\n",
        "import time\n",
        "\n",
        "from xgboost import XGBClassifier\n",
        "from sklearn.model_selection import KFold\n",
        "#from category_encoders import CountEncoder\n",
        "from sklearn.pipeline import Pipeline\n",
        "from sklearn.metrics import log_loss\n",
        "from sklearn.preprocessing import LabelEncoder\n",
        "\n",
        "import matplotlib.pyplot as plt\n",
        "\n",
        "from sklearn.multioutput import MultiOutputClassifier\n",
        "\n",
        "import os\n",
        "import warnings\n",
        "#warnings.filterwarnings('ignore')"
      ],
      "execution_count": 7,
      "outputs": [
        {
          "output_type": "stream",
          "text": [
            "/usr/local/lib/python3.6/dist-packages/statsmodels/tools/_testing.py:19: FutureWarning: pandas.util.testing is deprecated. Use the functions in the public API at pandas.testing instead.\n",
            "  import pandas.util.testing as tm\n"
          ],
          "name": "stderr"
        }
      ]
    },
    {
      "cell_type": "code",
      "metadata": {
        "id": "YV6Q10SQTD4N",
        "colab_type": "code",
        "colab": {}
      },
      "source": [
        "SEED = 42\n",
        "NFOLDS = 5\n",
        "DATA_DIR = '/content/drive/My Drive/Kaggle/MoA/input/'\n",
        "np.random.seed(SEED)"
      ],
      "execution_count": 8,
      "outputs": []
    },
    {
      "cell_type": "code",
      "metadata": {
        "id": "MHsdwGuETHBh",
        "colab_type": "code",
        "colab": {}
      },
      "source": [
        "train = pd.read_csv(DATA_DIR + 'train_features.csv')\n",
        "targets = pd.read_csv(DATA_DIR + 'train_targets_scored.csv')\n",
        "\n",
        "test = pd.read_csv(DATA_DIR + 'test_features.csv')\n",
        "sub = pd.read_csv(DATA_DIR + 'sample_submission.csv')\n",
        "\n",
        "# drop id col\n",
        "X = train.iloc[:,1:].to_numpy()\n",
        "X_test = test.iloc[:,1:].to_numpy()\n",
        "y = targets.iloc[:,1:].to_numpy() "
      ],
      "execution_count": 9,
      "outputs": []
    },
    {
      "cell_type": "code",
      "metadata": {
        "id": "bS22oubG2fFZ",
        "colab_type": "code",
        "colab": {
          "base_uri": "https://localhost:8080/",
          "height": 51
        },
        "outputId": "4ac377df-c9a1-4ccd-b178-079dc483bcb3"
      },
      "source": [
        "print(X.shape)\n",
        "print(X_test.shape)"
      ],
      "execution_count": 10,
      "outputs": [
        {
          "output_type": "stream",
          "text": [
            "(23814, 875)\n",
            "(3982, 875)\n"
          ],
          "name": "stdout"
        }
      ]
    },
    {
      "cell_type": "code",
      "metadata": {
        "id": "6mJBQOtx0dBw",
        "colab_type": "code",
        "colab": {
          "base_uri": "https://localhost:8080/",
          "height": 136
        },
        "outputId": "2f81d305-9503-4551-f18b-63572d84babd"
      },
      "source": [
        "print(X)"
      ],
      "execution_count": 11,
      "outputs": [
        {
          "output_type": "stream",
          "text": [
            "[['trt_cp' 24 'D1' ... 0.2139 0.3801 0.4176]\n",
            " ['trt_cp' 72 'D1' ... 0.1241 0.6077 0.7371]\n",
            " ['trt_cp' 48 'D1' ... -0.2187 -1.408 0.6931]\n",
            " ...\n",
            " ['ctl_vehicle' 48 'D2' ... 0.7592 0.6656 0.3808]\n",
            " ['trt_cp' 24 'D1' ... 0.7015 -0.629 0.074]\n",
            " ['trt_cp' 72 'D1' ... -0.4775 -2.15 -4.252]]\n"
          ],
          "name": "stdout"
        }
      ]
    },
    {
      "cell_type": "code",
      "metadata": {
        "id": "gOt-AocQ0gam",
        "colab_type": "code",
        "colab": {
          "base_uri": "https://localhost:8080/",
          "height": 136
        },
        "outputId": "4b000d53-7bc4-4abe-ee7f-9895ac0409b3"
      },
      "source": [
        "print(X_test)"
      ],
      "execution_count": 12,
      "outputs": [
        {
          "output_type": "stream",
          "text": [
            "[['trt_cp' 24 'D1' ... -0.0502 0.151 -0.775]\n",
            " ['trt_cp' 72 'D1' ... -0.4764 -1.381 -0.73]\n",
            " ['ctl_vehicle' 24 'D1' ... 1.016 0.4924 -0.1942]\n",
            " ...\n",
            " ['trt_cp' 72 'D1' ... 0.5888 -0.4205 -0.1504]\n",
            " ['trt_cp' 48 'D2' ... 0.5074 0.743 -0.0484]\n",
            " ['trt_cp' 72 'D1' ... 0.0757 -0.1356 0.528]]\n"
          ],
          "name": "stdout"
        }
      ]
    },
    {
      "cell_type": "code",
      "metadata": {
        "id": "-MeV4cnH1bM4",
        "colab_type": "code",
        "colab": {
          "base_uri": "https://localhost:8080/",
          "height": 34
        },
        "outputId": "fa595f6d-3f81-48e4-f535-8e07a43752e4"
      },
      "source": [
        "\n",
        "print(X.shape[1])\n",
        "for i in range(X.shape[1]):\n",
        "    if type(X[0,i]) is str:\n",
        "        le=LabelEncoder()\n",
        "        le.fit(X[:,i])\n",
        "        X[:,i]=le.transform(X[:,i])\n",
        "        X_test[:,i]=le.transform(X_test[:,i])\n",
        "\n",
        "#for x in X[0,:]:\n",
        "#    print(type(x))\n"
      ],
      "execution_count": 13,
      "outputs": [
        {
          "output_type": "stream",
          "text": [
            "875\n"
          ],
          "name": "stdout"
        }
      ]
    },
    {
      "cell_type": "code",
      "metadata": {
        "id": "StkZv_G_29vM",
        "colab_type": "code",
        "colab": {
          "base_uri": "https://localhost:8080/",
          "height": 136
        },
        "outputId": "527603fb-7f8c-4559-bde8-6a966308c661"
      },
      "source": [
        "print(X)"
      ],
      "execution_count": 15,
      "outputs": [
        {
          "output_type": "stream",
          "text": [
            "[[1 24 0 ... 0.2139 0.3801 0.4176]\n",
            " [1 72 0 ... 0.1241 0.6077 0.7371]\n",
            " [1 48 0 ... -0.2187 -1.408 0.6931]\n",
            " ...\n",
            " [0 48 1 ... 0.7592 0.6656 0.3808]\n",
            " [1 24 0 ... 0.7015 -0.629 0.074]\n",
            " [1 72 0 ... -0.4775 -2.15 -4.252]]\n"
          ],
          "name": "stdout"
        }
      ]
    },
    {
      "cell_type": "code",
      "metadata": {
        "id": "QSAG-ZyQ2_Lg",
        "colab_type": "code",
        "colab": {
          "base_uri": "https://localhost:8080/",
          "height": 136
        },
        "outputId": "558e1904-c540-4922-9b5e-77fbdccb1e07"
      },
      "source": [
        "print(X_test)"
      ],
      "execution_count": 16,
      "outputs": [
        {
          "output_type": "stream",
          "text": [
            "[[1 24 0 ... -0.0502 0.151 -0.775]\n",
            " [1 72 0 ... -0.4764 -1.381 -0.73]\n",
            " [0 24 0 ... 1.016 0.4924 -0.1942]\n",
            " ...\n",
            " [1 72 0 ... 0.5888 -0.4205 -0.1504]\n",
            " [1 48 1 ... 0.5074 0.743 -0.0484]\n",
            " [1 72 0 ... 0.0757 -0.1356 0.528]]\n"
          ],
          "name": "stdout"
        }
      ]
    },
    {
      "cell_type": "code",
      "metadata": {
        "id": "QBLl5dqhTJqO",
        "colab_type": "code",
        "colab": {}
      },
      "source": [
        "classifier = MultiOutputClassifier(XGBClassifier(tree_method='gpu_hist'))\n",
        "\n",
        "#clf = Pipeline([('encode', CountEncoder(cols=[0, 2])),\n",
        "#                ('classify', classifier)\n",
        "#               ])\n",
        "clf = Pipeline([\n",
        "                ('classify', classifier)\n",
        "               ])"
      ],
      "execution_count": 17,
      "outputs": []
    },
    {
      "cell_type": "code",
      "metadata": {
        "id": "CUBtJadoTNqL",
        "colab_type": "code",
        "colab": {}
      },
      "source": [
        "params = {'classify__estimator__colsample_bytree': 0.6522,\n",
        "          'classify__estimator__gamma': 3.6975,\n",
        "          'classify__estimator__learning_rate': 0.0503,\n",
        "          'classify__estimator__max_delta_step': 2.0706,\n",
        "          'classify__estimator__max_depth': 10,\n",
        "          'classify__estimator__min_child_weight': 31.5800,\n",
        "          'classify__estimator__n_estimators': 166,\n",
        "          'classify__estimator__subsample': 0.8639\n",
        "         }\n",
        "\n",
        "_ = clf.set_params(**params)"
      ],
      "execution_count": 18,
      "outputs": []
    },
    {
      "cell_type": "code",
      "metadata": {
        "id": "NuPBRKvexGM4",
        "colab_type": "code",
        "colab": {}
      },
      "source": [
        "start = time.time()"
      ],
      "execution_count": null,
      "outputs": []
    },
    {
      "cell_type": "code",
      "metadata": {
        "id": "4EgZ-NlkTSkC",
        "colab_type": "code",
        "colab": {}
      },
      "source": [
        "oof_preds = np.zeros(y.shape)\n",
        "test_preds = np.zeros((test.shape[0], y.shape[1]))\n",
        "oof_losses = []\n",
        "kf = KFold(n_splits=NFOLDS)\n",
        "for fn, (trn_idx, val_idx) in enumerate(kf.split(X, y)):\n",
        "    print('Starting fold: ', fn)\n",
        "    X_train, X_val = X[trn_idx], X[val_idx]\n",
        "    y_train, y_val = y[trn_idx], y[val_idx]\n",
        "    \n",
        "    # drop where cp_type==ctl_vehicle (baseline)\n",
        "    ctl_mask = X_train[:,0]=='ctl_vehicle'\n",
        "    X_train = X_train[~ctl_mask,:]\n",
        "    y_train = y_train[~ctl_mask]\n",
        "    \n",
        "    clf.fit(X_train, y_train)\n",
        "    val_preds = clf.predict_proba(X_val) # list of preds per class\n",
        "    val_preds = np.array(val_preds)[:,:,1].T # take the positive class\n",
        "    oof_preds[val_idx] = val_preds\n",
        "    \n",
        "    loss = log_loss(np.ravel(y_val), np.ravel(val_preds))\n",
        "    oof_losses.append(loss)\n",
        "    preds = clf.predict_proba(X_test)\n",
        "    preds = np.array(preds)[:,:,1].T # take the positive class\n",
        "    test_preds += preds / NFOLDS\n",
        "    \n",
        "print(oof_losses)\n",
        "print('Mean OOF loss across folds', np.mean(oof_losses))\n",
        "print('STD OOF loss across folds', np.std(oof_losses))"
      ],
      "execution_count": null,
      "outputs": []
    },
    {
      "cell_type": "code",
      "metadata": {
        "id": "feUjgQxaxJ0j",
        "colab_type": "code",
        "colab": {}
      },
      "source": [
        "learning_time = time.time() - start\n",
        "print(\"Learning time:{0}\".format(learning_time) + \"[sec]\")"
      ],
      "execution_count": null,
      "outputs": []
    },
    {
      "cell_type": "code",
      "metadata": {
        "id": "5BivciutTVos",
        "colab_type": "code",
        "colab": {}
      },
      "source": [
        "# set control train preds to 0\n",
        "control_mask = train['cp_type']=='ctl_vehicle'\n",
        "oof_preds[control_mask] = 0\n",
        "\n",
        "print('OOF log loss: ', log_loss(np.ravel(y), np.ravel(oof_preds)))"
      ],
      "execution_count": null,
      "outputs": []
    },
    {
      "cell_type": "code",
      "metadata": {
        "id": "7RItOQzZTYTL",
        "colab_type": "code",
        "colab": {}
      },
      "source": [
        "# set control test preds to 0\n",
        "control_mask = test['cp_type']=='ctl_vehicle'\n",
        "\n",
        "test_preds[control_mask] = 0"
      ],
      "execution_count": null,
      "outputs": []
    },
    {
      "cell_type": "code",
      "metadata": {
        "id": "m0C4vktUTaYB",
        "colab_type": "code",
        "colab": {}
      },
      "source": [
        "# create the submission file\n",
        "sub.iloc[:,1:] = test_preds\n",
        "sub.to_csv('submission.csv', index=False)"
      ],
      "execution_count": null,
      "outputs": []
    }
  ]
}